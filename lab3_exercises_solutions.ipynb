{
  "nbformat": 4,
  "nbformat_minor": 0,
  "metadata": {
    "colab": {
      "name": "Lab3_Solutions_to_Exercises.ipynb.ipynb",
      "provenance": [],
      "collapsed_sections": []
    },
    "kernelspec": {
      "name": "python3",
      "display_name": "Python 3"
    }
  },
  "cells": [
    {
      "cell_type": "markdown",
      "metadata": {
        "id": "fVPaI5hucGhx"
      },
      "source": [
        "# **Solutions to Exercises, Lab 3**\n",
        "\n",
        "by Ding"
      ]
    },
    {
      "cell_type": "markdown",
      "metadata": {
        "id": "Haoy9B_6_0ld"
      },
      "source": [
        "**Exercise**\n",
        "\n",
        "Try to use this notebook to build model for Fashion-MNIST dataset."
      ]
    },
    {
      "cell_type": "markdown",
      "metadata": {
        "id": "jLwmSCZV-mta"
      },
      "source": [
        "Solution\n",
        "\n",
        "Import the libraries and define the utility functions, using the same code."
      ]
    },
    {
      "cell_type": "code",
      "metadata": {
        "id": "TaZa-xAPWHE1"
      },
      "source": [
        "%matplotlib inline\n",
        "%config InlineBackend.figure_format = 'retina'\n",
        "import matplotlib.pyplot as plt\n",
        "import pandas as pd\n",
        "\n",
        "import numpy as np\n",
        "import seaborn as sns\n",
        "import warnings\n",
        "\n",
        "warnings.filterwarnings('ignore')\n",
        "pd.options.display.float_format = '{:,.2f}'.format\n",
        "pd.set_option('display.max_rows', 100)\n",
        "pd.set_option('display.max_columns', 200)\n",
        "\n",
        "from __future__ import print_function\n",
        "from datetime import datetime\n",
        "from matplotlib.colors import ListedColormap\n",
        "from sklearn.datasets import make_classification, make_moons, make_circles\n",
        "from sklearn.metrics import confusion_matrix, classification_report, mean_squared_error, mean_absolute_error, r2_score\n",
        "from sklearn.linear_model import LogisticRegression\n",
        "from sklearn.utils import shuffle\n",
        "from keras.models import Sequential\n",
        "from keras.layers import Dense, Dropout, BatchNormalization, Activation\n",
        "from keras.optimizers import *\n",
        "from keras.callbacks import EarlyStopping\n",
        "from keras.utils.np_utils import to_categorical\n",
        "from sklearn.preprocessing import StandardScaler, LabelEncoder, OneHotEncoder, MinMaxScaler\n",
        "from sklearn.model_selection import train_test_split, cross_val_score, StratifiedKFold, KFold\n",
        "import keras.backend as K\n",
        "from keras.wrappers.scikit_learn import KerasClassifier\n",
        "\n",
        "def plot_loss_accuracy(history):\n",
        "    historydf = pd.DataFrame(history.history, index=history.epoch)\n",
        "    plt.figure(figsize=(8, 6))\n",
        "    historydf.plot(ylim=(0, max(1, historydf.values.max())))\n",
        "    loss = history.history['loss'][-1]\n",
        "    acc = history.history['accuracy'][-1]\n",
        "    plt.title('Loss: %.3f, Accuracy: %.3f' % (loss, acc))"
      ],
      "execution_count": null,
      "outputs": []
    },
    {
      "cell_type": "markdown",
      "metadata": {
        "id": "s-32g4HgWTk6"
      },
      "source": [
        "We will be using the Fashion-MNIST dataset, which is also built into Keras."
      ]
    },
    {
      "cell_type": "code",
      "metadata": {
        "id": "omdSP7RzWcOf"
      },
      "source": [
        "from keras.datasets import fashion_mnist\n",
        "\n",
        "(x_train, y_train), (x_test, y_test) = fashion_mnist.load_data()"
      ],
      "execution_count": null,
      "outputs": []
    },
    {
      "cell_type": "markdown",
      "metadata": {
        "id": "QCBhYw96Wx-w"
      },
      "source": [
        "By the way, you may check an image. Let's look at the 1st, 101st, 201st and 301st images."
      ]
    },
    {
      "cell_type": "code",
      "metadata": {
        "colab": {
          "base_uri": "https://localhost:8080/",
          "height": 286
        },
        "id": "H6lxDQoFW2-c",
        "outputId": "7af8e604-bf23-49d2-8570-52e091d5f715"
      },
      "source": [
        "plt.figure()\n",
        "f, axarr = plt.subplots(4, 1) \n",
        "for i in range(4):\n",
        "  axarr[i].imshow(x_train[i * 100])"
      ],
      "execution_count": null,
      "outputs": [
        {
          "output_type": "display_data",
          "data": {
            "text/plain": [
              "<Figure size 432x288 with 0 Axes>"
            ]
          },
          "metadata": {
            "tags": []
          }
        },
        {
          "output_type": "display_data",
          "data": {
            "image/png": "[encoded data removed]",
            "text/plain": [
              "<Figure size 432x288 with 4 Axes>"
            ]
          },
          "metadata": {
            "tags": [],
            "image/png": {
              "width": 83,
              "height": 251
            },
            "needs_background": "light"
          }
        }
      ]
    },
    {
      "cell_type": "markdown",
      "metadata": {
        "id": "fIktMzJgWqDy"
      },
      "source": [
        "Use the same code from the lab intruction."
      ]
    },
    {
      "cell_type": "code",
      "metadata": {
        "colab": {
          "base_uri": "https://localhost:8080/"
        },
        "id": "2Suh2tIZWn7V",
        "outputId": "267ed261-5d5b-4894-ad85-d2b99b2de26b"
      },
      "source": [
        "print(\"Training data shape: \", x_train.shape) # (60000, 28, 28) -- 60000 images, each 28x28 pixels  54000 traning 6000 validation 10000 testing\n",
        "print(\"Test data shape\", x_test.shape) # (10000, 28, 28) -- 10000 images, each 28x28\n",
        "print(\"Training response shape:, \", y_train.shape)\n",
        "print(\"Testing response shape: \", y_test.shape)\n",
        "\n",
        "image_size = (x_train.shape[1], x_train.shape[2])"
      ],
      "execution_count": null,
      "outputs": [
        {
          "output_type": "stream",
          "text": [
            "Training data shape:  (60000, 28, 28)\n",
            "Test data shape (10000, 28, 28)\n",
            "Training response shape:,  (60000,)\n",
            "Testing response shape:  (10000,)\n"
          ],
          "name": "stdout"
        }
      ]
    },
    {
      "cell_type": "code",
      "metadata": {
        "colab": {
          "base_uri": "https://localhost:8080/"
        },
        "id": "W5hbZWObYSwf",
        "outputId": "d02883b0-0ce5-49c4-cafa-e2b78fd8d9ef"
      },
      "source": [
        "# Flatten the images\n",
        "image_vector_size = image_size[0] * image_size[1] # 28 * 28\n",
        "x_train = x_train.reshape(x_train.shape[0], image_vector_size) /255.\n",
        "x_test = x_test.reshape(x_test.shape[0], image_vector_size) /255.\n",
        "print(x_train.shape)\n",
        "\n",
        "print(\"First 5 training labels: \", y_train[:5]) # [5, 0, 4, 1, 9]\n",
        "\n",
        "# Convert to \"one-hot\" vectors using the to_categorical function\n",
        "num_classes = 10\n",
        "y_train = to_categorical(y_train, num_classes)\n",
        "y_test = to_categorical(y_test, num_classes)\n",
        "print(\"First 5 training lables as one-hot encoded vectors:\\n\", y_train[:5])\n",
        "print(y_train.shape)"
      ],
      "execution_count": null,
      "outputs": [
        {
          "output_type": "stream",
          "text": [
            "(60000, 784)\n",
            "First 5 training labels:  [9 0 0 3 0]\n",
            "First 5 training lables as one-hot encoded vectors:\n",
            " [[0. 0. 0. 0. 0. 0. 0. 0. 0. 1.]\n",
            " [1. 0. 0. 0. 0. 0. 0. 0. 0. 0.]\n",
            " [1. 0. 0. 0. 0. 0. 0. 0. 0. 0.]\n",
            " [0. 0. 0. 1. 0. 0. 0. 0. 0. 0.]\n",
            " [1. 0. 0. 0. 0. 0. 0. 0. 0. 0.]]\n",
            "(60000, 10)\n"
          ],
          "name": "stdout"
        }
      ]
    },
    {
      "cell_type": "markdown",
      "metadata": {
        "id": "v9gUGl--Yuy_"
      },
      "source": [
        "In this example, I want to build a model with 2 hidden layers, 4 neurons in the first layer and 8 neurons in the second layer (umm.. not very good), using the relu and sigmoid activation functions. I also add a drop out layer."
      ]
    },
    {
      "cell_type": "code",
      "metadata": {
        "colab": {
          "base_uri": "https://localhost:8080/"
        },
        "id": "BEHN-tbnYjWZ",
        "outputId": "916e2fb9-937f-4e09-d946-dd082ba913df"
      },
      "source": [
        "def build_basic_model():\n",
        "  model = Sequential()\n",
        "  model.add(Dense(units=4, activation='relu', input_shape=(image_vector_size,)))\n",
        "  model.add(Dense(units=8, activation='sigmoid'))\n",
        "  model.add(Dropout(0.2))\n",
        "  model.add(Dense(units=num_classes, activation='softmax'))\n",
        "  return model\n",
        "model = build_basic_model()\n",
        "model.summary()"
      ],
      "execution_count": null,
      "outputs": [
        {
          "output_type": "stream",
          "text": [
            "Model: \"sequential_20\"\n",
            "_________________________________________________________________\n",
            "Layer (type)                 Output Shape              Param #   \n",
            "=================================================================\n",
            "dense_54 (Dense)             (None, 4)                 3140      \n",
            "_________________________________________________________________\n",
            "dense_55 (Dense)             (None, 8)                 40        \n",
            "_________________________________________________________________\n",
            "dropout_11 (Dropout)         (None, 8)                 0         \n",
            "_________________________________________________________________\n",
            "dense_56 (Dense)             (None, 10)                90        \n",
            "=================================================================\n",
            "Total params: 3,270\n",
            "Trainable params: 3,270\n",
            "Non-trainable params: 0\n",
            "_________________________________________________________________\n"
          ],
          "name": "stdout"
        }
      ]
    },
    {
      "cell_type": "markdown",
      "metadata": {
        "id": "BHdTlhqtZmhE"
      },
      "source": [
        "I chose the Adam (Adaptive Moment Estimation) optimizer with a learning rate of 0.05. You may use the following dictionary to choose an optimzer."
      ]
    },
    {
      "cell_type": "code",
      "metadata": {
        "id": "NGcDbjQ6aNs2"
      },
      "source": [
        "opt_dict = {'nadam':Nadam,\n",
        "            'adam':Adam,\n",
        "            'sgd':SGD,\n",
        "            'rmsprop':RMSprop,\n",
        "            'adadelta':Adadelta,\n",
        "            'adagrad':Adagrad}"
      ],
      "execution_count": null,
      "outputs": []
    },
    {
      "cell_type": "code",
      "metadata": {
        "id": "FRtzCxP-Za_F"
      },
      "source": [
        "model.compile(Adam(lr=0.05), loss='categorical_crossentropy', metrics=['accuracy'])"
      ],
      "execution_count": null,
      "outputs": []
    },
    {
      "cell_type": "markdown",
      "metadata": {
        "id": "ObjcDqWVaV1E"
      },
      "source": [
        "I use a batch size of 256 and train the model for 10 epoches only."
      ]
    },
    {
      "cell_type": "code",
      "metadata": {
        "colab": {
          "base_uri": "https://localhost:8080/"
        },
        "id": "hEj94A4DaQts",
        "outputId": "24dfd679-5e6c-4feb-dcc0-2081f03a3512"
      },
      "source": [
        "history = model.fit(x_train, y_train, batch_size=256, epochs=10, verbose=True, validation_split=.1)\n",
        "loss, accuracy  = model.evaluate(x_test, y_test, verbose=False)"
      ],
      "execution_count": null,
      "outputs": [
        {
          "output_type": "stream",
          "text": [
            "Epoch 1/10\n",
            "211/211 [==============================] - 1s 4ms/step - loss: 1.7360 - accuracy: 0.2727 - val_loss: 1.2782 - val_accuracy: 0.4443\n",
            "Epoch 2/10\n",
            "211/211 [==============================] - 1s 3ms/step - loss: 1.3181 - accuracy: 0.4415 - val_loss: 1.1522 - val_accuracy: 0.5253\n",
            "Epoch 3/10\n",
            "211/211 [==============================] - 1s 3ms/step - loss: 1.2528 - accuracy: 0.4794 - val_loss: 1.0623 - val_accuracy: 0.5703\n",
            "Epoch 4/10\n",
            "211/211 [==============================] - 1s 3ms/step - loss: 1.1932 - accuracy: 0.5153 - val_loss: 1.0560 - val_accuracy: 0.5928\n",
            "Epoch 5/10\n",
            "211/211 [==============================] - 1s 3ms/step - loss: 1.1707 - accuracy: 0.5227 - val_loss: 1.0311 - val_accuracy: 0.6140\n",
            "Epoch 6/10\n",
            "211/211 [==============================] - 1s 4ms/step - loss: 1.1739 - accuracy: 0.5275 - val_loss: 1.0595 - val_accuracy: 0.5798\n",
            "Epoch 7/10\n",
            "211/211 [==============================] - 1s 3ms/step - loss: 1.1828 - accuracy: 0.5186 - val_loss: 1.0728 - val_accuracy: 0.5827\n",
            "Epoch 8/10\n",
            "211/211 [==============================] - 1s 3ms/step - loss: 1.1722 - accuracy: 0.5177 - val_loss: 1.0316 - val_accuracy: 0.6150\n",
            "Epoch 9/10\n",
            "211/211 [==============================] - 1s 3ms/step - loss: 1.1837 - accuracy: 0.5229 - val_loss: 1.0783 - val_accuracy: 0.6013\n",
            "Epoch 10/10\n",
            "211/211 [==============================] - 1s 4ms/step - loss: 1.1530 - accuracy: 0.5328 - val_loss: 1.0394 - val_accuracy: 0.5765\n"
          ],
          "name": "stdout"
        }
      ]
    },
    {
      "cell_type": "markdown",
      "metadata": {
        "id": "OMMJiCGTbHFB"
      },
      "source": [
        "Ooops, I got a validation accuracy of 57.65%. Will you get a better validation accuracy by changing some of these settings and paramters?"
      ]
    },
    {
      "cell_type": "markdown",
      "metadata": {
        "id": "yIsWtt0lWBDT"
      },
      "source": [
        "(End)"
      ]
    }
  ]
}
